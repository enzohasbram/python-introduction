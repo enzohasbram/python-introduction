{
 "cells": [
  {
   "cell_type": "markdown",
   "metadata": {},
   "source": [
    "Expressões Regulares  - RegEx"
   ]
  },
  {
   "cell_type": "markdown",
   "metadata": {},
   "source": [
    "- Busca sofisticada para coletar informações em strings"
   ]
  },
  {
   "cell_type": "markdown",
   "metadata": {},
   "source": [
    "Método match:\n",
    "- re.match(padrão, string, flags=0)\n",
    "- Tenta encontrar um padrão dentro de uma string\n",
    "- Ex: padrão de um CPF\n",
    "\n",
    "Método findall:\n",
    "- re.findall(padrão, string, flags=0)\n",
    "- retorna uma lista de elementos com o padrão desejado. Tenta encontrar todas as substrings em uma string que correspondam a um padrão\n",
    "- Ex: captar todos os advérbios de uma frase\n",
    "\n",
    "Método sub:\n",
    "- re.sub(padrão, repl, string, count=0, flags=0)\n",
    "- Busca um padrão e o substitui por outro\n",
    "\n",
    "Método findinter:\n",
    "- re.findinter(padrão, string, flags=0)\n",
    "- Essa função faz uma iteração de strings em busca de um dado padrão\n",
    "\n",
    "Método search:\n",
    "- re.search(padrão, string, flags=0)\n",
    "-Encontrar as posições de padrões dentro de uma string, se estes estiverem presentes"
   ]
  },
  {
   "cell_type": "markdown",
   "metadata": {},
   "source": [
    "METACARACTERES\n",
    "\n",
    ". - Qualquer caractere (exceto linha nova)\n",
    "\\w - Qualquer caractere alfanumérico\n",
    "\\W - Qualquer caractere não-alfanumérico\n",
    "\\d - Qualquer caractere que seja um dígito (0-9)\n",
    "\\D - Qualquer caractere não dígito\n",
    "\\s - Espaço em branco\n",
    "^ - começa com ...\n",
    "$ - termina com ...\n",
    "\"\\\" - usado antes de metacaracteres para especificar seu significado literal\n",
    "\n",
    "QUANTIFICADORES\n",
    "\n",
    "[] - opcional entre os que estão dentro de grupos\n",
    "() - captura grupos de caracteres\n",
    "* - de zero a mais vezes\n",
    "? - zero ou uma vez\n",
    "+ - uma ou mais vezes\n",
    "{m, n} - de m a n vezes\n",
    "| - ou\n"
   ]
  }
 ],
 "metadata": {
  "kernelspec": {
   "display_name": "Python 3",
   "language": "python",
   "name": "python3"
  },
  "language_info": {
   "name": "python",
   "version": "3.11.4"
  }
 },
 "nbformat": 4,
 "nbformat_minor": 2
}
