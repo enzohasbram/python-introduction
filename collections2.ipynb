{
 "cells": [
  {
   "cell_type": "markdown",
   "metadata": {},
   "source": [
    "DICIONÁRIOS"
   ]
  },
  {
   "cell_type": "code",
   "execution_count": 1,
   "metadata": {},
   "outputs": [],
   "source": [
    "coleta = {'Aedes aegypt': 32, 'Aedes albopictus': 22, 'Anopheles darlingi': 14}"
   ]
  },
  {
   "cell_type": "code",
   "execution_count": 2,
   "metadata": {},
   "outputs": [
    {
     "data": {
      "text/plain": [
       "32"
      ]
     },
     "execution_count": 2,
     "metadata": {},
     "output_type": "execute_result"
    }
   ],
   "source": [
    "coleta['Aedes aegypt']"
   ]
  },
  {
   "cell_type": "code",
   "execution_count": 4,
   "metadata": {},
   "outputs": [],
   "source": [
    "coleta['Rhodnius montenegrensis'] = 11"
   ]
  },
  {
   "cell_type": "code",
   "execution_count": 5,
   "metadata": {},
   "outputs": [
    {
     "name": "stdout",
     "output_type": "stream",
     "text": [
      "{'Aedes aegypt': 32, 'Aedes albopictus': 22, 'Anopheles darlingi': 14, 'Rhodnius montenegrensis': 11}\n"
     ]
    }
   ],
   "source": [
    "print(coleta)"
   ]
  },
  {
   "cell_type": "code",
   "execution_count": 6,
   "metadata": {},
   "outputs": [],
   "source": [
    "del(coleta)['Aedes albopictus']"
   ]
  },
  {
   "cell_type": "code",
   "execution_count": 7,
   "metadata": {},
   "outputs": [
    {
     "name": "stdout",
     "output_type": "stream",
     "text": [
      "{'Aedes aegypt': 32, 'Anopheles darlingi': 14, 'Rhodnius montenegrensis': 11}\n"
     ]
    }
   ],
   "source": [
    "print(coleta)"
   ]
  },
  {
   "cell_type": "code",
   "execution_count": 9,
   "metadata": {},
   "outputs": [
    {
     "data": {
      "text/plain": [
       "dict_items([('Aedes aegypt', 32), ('Anopheles darlingi', 14), ('Rhodnius montenegrensis', 11)])"
      ]
     },
     "execution_count": 9,
     "metadata": {},
     "output_type": "execute_result"
    }
   ],
   "source": [
    "coleta.items()"
   ]
  },
  {
   "cell_type": "code",
   "execution_count": 11,
   "metadata": {},
   "outputs": [
    {
     "data": {
      "text/plain": [
       "dict_keys(['Aedes aegypt', 'Anopheles darlingi', 'Rhodnius montenegrensis'])"
      ]
     },
     "execution_count": 11,
     "metadata": {},
     "output_type": "execute_result"
    }
   ],
   "source": [
    "coleta.keys()"
   ]
  },
  {
   "cell_type": "code",
   "execution_count": 12,
   "metadata": {},
   "outputs": [
    {
     "data": {
      "text/plain": [
       "dict_values([32, 14, 11])"
      ]
     },
     "execution_count": 12,
     "metadata": {},
     "output_type": "execute_result"
    }
   ],
   "source": [
    "coleta.values()"
   ]
  },
  {
   "cell_type": "code",
   "execution_count": 13,
   "metadata": {},
   "outputs": [
    {
     "name": "stdout",
     "output_type": "stream",
     "text": [
      "{'Anopheles gambiae': 13, 'Anoepheles daeneorum': 14}\n"
     ]
    }
   ],
   "source": [
    "coleta2 = {'Anopheles gambiae': 13, 'Anoepheles daeneorum': 14}\n",
    "print(coleta2)"
   ]
  },
  {
   "cell_type": "code",
   "execution_count": 14,
   "metadata": {},
   "outputs": [
    {
     "name": "stdout",
     "output_type": "stream",
     "text": [
      "{'Aedes aegypt': 32, 'Anopheles darlingi': 14, 'Rhodnius montenegrensis': 11, 'Anopheles gambiae': 13, 'Anoepheles daeneorum': 14}\n"
     ]
    }
   ],
   "source": [
    "coleta.update(coleta2)\n",
    "print(coleta)"
   ]
  },
  {
   "cell_type": "code",
   "execution_count": 15,
   "metadata": {},
   "outputs": [
    {
     "data": {
      "text/plain": [
       "dict_items([('Aedes aegypt', 32), ('Anopheles darlingi', 14), ('Rhodnius montenegrensis', 11), ('Anopheles gambiae', 13), ('Anoepheles daeneorum', 14)])"
      ]
     },
     "execution_count": 15,
     "metadata": {},
     "output_type": "execute_result"
    }
   ],
   "source": [
    "coleta.items()"
   ]
  },
  {
   "cell_type": "code",
   "execution_count": 16,
   "metadata": {},
   "outputs": [
    {
     "name": "stdout",
     "output_type": "stream",
     "text": [
      "Espécie: Aedes aegypt, número de espécimes coletados: 32\n",
      "Espécie: Anopheles darlingi, número de espécimes coletados: 14\n",
      "Espécie: Rhodnius montenegrensis, número de espécimes coletados: 11\n",
      "Espécie: Anopheles gambiae, número de espécimes coletados: 13\n",
      "Espécie: Anoepheles daeneorum, número de espécimes coletados: 14\n"
     ]
    }
   ],
   "source": [
    "for especie, num_especimes in coleta.items():\n",
    "    print(f'Espécie: {especie}, número de espécimes coletados: {num_especimes}')"
   ]
  },
  {
   "cell_type": "markdown",
   "metadata": {},
   "source": [
    "CONJUNTOS (SET)"
   ]
  },
  {
   "cell_type": "code",
   "execution_count": 17,
   "metadata": {},
   "outputs": [],
   "source": [
    "biomoleculas = ('proteína', 'ácidos nucleicos', 'carboidrato', 'lipídeo'\n",
    "                'ácidos nucleicos', 'carboidrato', 'carboidrato', 'carboidrato')"
   ]
  },
  {
   "cell_type": "code",
   "execution_count": 18,
   "metadata": {},
   "outputs": [
    {
     "name": "stdout",
     "output_type": "stream",
     "text": [
      "('proteína', 'ácidos nucleicos', 'carboidrato', 'lipídeoácidos nucleicos', 'carboidrato', 'carboidrato', 'carboidrato')\n"
     ]
    }
   ],
   "source": [
    "print(biomoleculas)"
   ]
  },
  {
   "cell_type": "code",
   "execution_count": 19,
   "metadata": {},
   "outputs": [
    {
     "name": "stdout",
     "output_type": "stream",
     "text": [
      "{'ácidos nucleicos', 'lipídeoácidos nucleicos', 'carboidrato', 'proteína'}\n"
     ]
    }
   ],
   "source": [
    "print(set(biomoleculas))"
   ]
  },
  {
   "cell_type": "code",
   "execution_count": 20,
   "metadata": {},
   "outputs": [],
   "source": [
    "c1 = {1,2,3,4,5}\n",
    "c2 = {3,4,5,6,7}\n",
    "c3 = c1.intersection(c2)"
   ]
  },
  {
   "cell_type": "code",
   "execution_count": 21,
   "metadata": {},
   "outputs": [
    {
     "name": "stdout",
     "output_type": "stream",
     "text": [
      "{3, 4, 5}\n"
     ]
    }
   ],
   "source": [
    "print(c3)"
   ]
  },
  {
   "cell_type": "code",
   "execution_count": 22,
   "metadata": {},
   "outputs": [
    {
     "data": {
      "text/plain": [
       "{1, 2}"
      ]
     },
     "execution_count": 22,
     "metadata": {},
     "output_type": "execute_result"
    }
   ],
   "source": [
    "c1.difference(c2)"
   ]
  },
  {
   "cell_type": "code",
   "execution_count": 23,
   "metadata": {},
   "outputs": [
    {
     "data": {
      "text/plain": [
       "{6, 7}"
      ]
     },
     "execution_count": 23,
     "metadata": {},
     "output_type": "execute_result"
    }
   ],
   "source": [
    "c2.difference(c1)"
   ]
  }
 ],
 "metadata": {
  "kernelspec": {
   "display_name": "Python 3",
   "language": "python",
   "name": "python3"
  },
  "language_info": {
   "codemirror_mode": {
    "name": "ipython",
    "version": 3
   },
   "file_extension": ".py",
   "mimetype": "text/x-python",
   "name": "python",
   "nbconvert_exporter": "python",
   "pygments_lexer": "ipython3",
   "version": "3.10.12"
  }
 },
 "nbformat": 4,
 "nbformat_minor": 2
}
