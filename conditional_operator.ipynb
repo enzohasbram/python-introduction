{
 "cells": [
  {
   "cell_type": "markdown",
   "metadata": {},
   "source": [
    "Operador Condicional:"
   ]
  },
  {
   "cell_type": "code",
   "execution_count": 2,
   "metadata": {},
   "outputs": [
    {
     "data": {
      "text/plain": [
       "True"
      ]
     },
     "execution_count": 2,
     "metadata": {},
     "output_type": "execute_result"
    }
   ],
   "source": [
    "5 > 3"
   ]
  },
  {
   "cell_type": "code",
   "execution_count": 3,
   "metadata": {},
   "outputs": [
    {
     "name": "stdout",
     "output_type": "stream",
     "text": [
      "5 é maior que 3\n"
     ]
    }
   ],
   "source": [
    "if 5 > 3:\n",
    "    print('5 é maior que 3')\n",
    "\n",
    "# Em python não tem {} para if\n",
    "# Deve-se indentar para a condicional funcionar"
   ]
  },
  {
   "cell_type": "code",
   "execution_count": 4,
   "metadata": {},
   "outputs": [
    {
     "name": "stdout",
     "output_type": "stream",
     "text": [
      "5 não é maior\n"
     ]
    }
   ],
   "source": [
    "if 5 > 6:\n",
    "    print('5 é maior')\n",
    "else:\n",
    "    print('5 não é maior')\n"
   ]
  },
  {
   "cell_type": "code",
   "execution_count": 6,
   "metadata": {},
   "outputs": [
    {
     "name": "stdout",
     "output_type": "stream",
     "text": [
      "'n' não é igual a 4 nem 3\n"
     ]
    }
   ],
   "source": [
    "n = 9\n",
    "if n == 4:\n",
    "    print(\"'n' é igual a 4'\")\n",
    "else:\n",
    "    if n == 3:\n",
    "        print(\"'n' é igual a 3\")\n",
    "    else:\n",
    "        print(\"'n' não é igual a 4 nem 3\")"
   ]
  },
  {
   "cell_type": "code",
   "execution_count": 9,
   "metadata": {},
   "outputs": [
    {
     "name": "stdout",
     "output_type": "stream",
     "text": [
      "Uma ou nenhuma das condições foram satisfeitas\n"
     ]
    }
   ],
   "source": [
    "x = 1\n",
    "y = 4\n",
    "if (x > 1) and (y % 2 == 0):\n",
    "    print('x é maior que 1 e y é par')\n",
    "else: \n",
    "    print('Uma ou nenhuma das condições foram satisfeitas')"
   ]
  },
  {
   "cell_type": "code",
   "execution_count": 10,
   "metadata": {},
   "outputs": [
    {
     "name": "stdout",
     "output_type": "stream",
     "text": [
      "x é maior que 1 ou y é par\n"
     ]
    }
   ],
   "source": [
    "x = 1\n",
    "y = 4\n",
    "if (x > 1) or (y % 2 == 0):\n",
    "    print('x é maior que 1 ou y é par')\n",
    "else: \n",
    "    print('Nenhuma das condições foram satisfeitas')"
   ]
  }
 ],
 "metadata": {
  "kernelspec": {
   "display_name": "Python 3",
   "language": "python",
   "name": "python3"
  },
  "language_info": {
   "codemirror_mode": {
    "name": "ipython",
    "version": 3
   },
   "file_extension": ".py",
   "mimetype": "text/x-python",
   "name": "python",
   "nbconvert_exporter": "python",
   "pygments_lexer": "ipython3",
   "version": "3.10.12"
  }
 },
 "nbformat": 4,
 "nbformat_minor": 2
}
