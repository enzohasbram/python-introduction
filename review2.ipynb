{
 "cells": [
  {
   "cell_type": "markdown",
   "metadata": {},
   "source": [
    "Exercícios de Revisão"
   ]
  },
  {
   "cell_type": "markdown",
   "metadata": {},
   "source": [
    "Exercíco 1: \n",
    "Leia a idade do usuário e classifique-o em:\n",
    "- Criança – 0 a 12 anos\n",
    "- Adolescente – 13 a 17 anos\n",
    "- Adulto – acima de 18 anos\n",
    "- Se o usuário digitar um número negativo, mostrar a mensagem que a idade é inválida"
   ]
  },
  {
   "cell_type": "code",
   "execution_count": 6,
   "metadata": {},
   "outputs": [
    {
     "name": "stdout",
     "output_type": "stream",
     "text": [
      "Adulto\n"
     ]
    }
   ],
   "source": [
    "idade = int(input(\"Digite sua idade: \"))\n",
    "\n",
    "if (idade < 0):\n",
    "    print(\"Idade inválida\")\n",
    "else:\n",
    "    if (idade < 13):\n",
    "        print(\"Criança\")\n",
    "    else:\n",
    "        if (idade < 18):\n",
    "            print(\"Adolescente\")\n",
    "        else:\n",
    "            print(\"Adulto\")"
   ]
  },
  {
   "cell_type": "markdown",
   "metadata": {},
   "source": [
    "Exercício 2: \n",
    "Calcular a média de um aluno que cursou a disciplina de Programação I, a partir da leitura das notas M1, M2 e M3; passando por um cálculo da média aritmética. Após a média calculada, devemos anunciar se o aluno foi aprovado, reprovado ou pegou exame\n",
    "- Se a média estiver entre 0.0 e 4.0, o aluno está reprovado\n",
    "- Se a média estiver entre 4.1 e 6.0, o aluno pegou exame\n",
    "- Se a média for maior do que 6.0, o aluno está aprovado\n",
    "- Se o aluno pegou exame, deve ser lida a nota do exame. Se a nota do exame for maior do que 6.0, está aprovado, senão; está reprovado"
   ]
  },
  {
   "cell_type": "code",
   "execution_count": 4,
   "metadata": {},
   "outputs": [
    {
     "name": "stdout",
     "output_type": "stream",
     "text": [
      "5.33\n",
      "Exame\n",
      "9.0\n",
      "Aprovado\n"
     ]
    }
   ],
   "source": [
    "m1 = float(input(\"Digite a nota de M1\"))\n",
    "m2 = float(input(\"Digite a nota de M2\"))\n",
    "m3 = float(input(\"Digite a nota de M3\"))\n",
    "\n",
    "nota_final = (m1 + m2 + m3) / 3\n",
    "print(round(nota_final,2))\n",
    "\n",
    "if (nota_final <= 4):\n",
    "    print(\"Reprovado\")\n",
    "else:\n",
    "    if(nota_final <= 6):\n",
    "        print(\"Exame\")\n",
    "        nota_exame = float(input(\"Digite a nota do exame\"))\n",
    "        print(nota_exame)\n",
    "        if (nota_exame <= 6):\n",
    "            print(\"Reprovado\")\n",
    "        else:\n",
    "            print(\"Aprovado\")\n",
    "    else:\n",
    "        print(\"Aprovado\")\n",
    "\n"
   ]
  }
 ],
 "metadata": {
  "kernelspec": {
   "display_name": "Python 3",
   "language": "python",
   "name": "python3"
  },
  "language_info": {
   "codemirror_mode": {
    "name": "ipython",
    "version": 3
   },
   "file_extension": ".py",
   "mimetype": "text/x-python",
   "name": "python",
   "nbconvert_exporter": "python",
   "pygments_lexer": "ipython3",
   "version": "3.10.12"
  }
 },
 "nbformat": 4,
 "nbformat_minor": 2
}
