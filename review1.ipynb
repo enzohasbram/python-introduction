{
 "cells": [
  {
   "cell_type": "markdown",
   "metadata": {},
   "source": [
    "Exercício de Revisão"
   ]
  },
  {
   "cell_type": "markdown",
   "metadata": {},
   "source": [
    "Exercício 1: Ler dois números inteiros, executar e mostrar o resultado das seguintes operações: adição, subtração, multiplicação e divisão"
   ]
  },
  {
   "cell_type": "code",
   "execution_count": 3,
   "metadata": {},
   "outputs": [
    {
     "name": "stdout",
     "output_type": "stream",
     "text": [
      "a -> 10\n",
      "b -> 5\n",
      "Soma = 15\n",
      "Subtração = 5\n",
      "Multiplicação = 50\n",
      "Divisão = 2.0\n"
     ]
    }
   ],
   "source": [
    "a = int(input('Digite o primeiro número'))\n",
    "b = int(input('Digite o segundo número'))\n",
    "\n",
    "print('a ->', a)\n",
    "print('b ->', b)\n",
    "\n",
    "print('Soma =', a + b)\n",
    "print('Subtração =', a - b)\n",
    "print('Multiplicação =', a * b)\n",
    "print('Divisão =', a / b)"
   ]
  },
  {
   "cell_type": "markdown",
   "metadata": {},
   "source": [
    "Exercício 2: Efetuar o cálculo da quantidade de litros de combustível gasto em uma viagem, utilizando um automóvel que faz 12 Km por litro. Para obter o cálculo, o usuário deve fornecer o tempo gasto na viagem e a velocidade média durante ela. Desta forma, será possível obter a distância percorrida com a fórmula DISTANCIA = TEMPO * VELOCIDADE. Tendo o valor da distância, basta calcular a quantidade de litros de combustível utilizada na viagem, com a fórmula: LITROS_USADOS = DISTANCIA / 12. O programa deve apresentar os valores da velocidade média, tempo gasto na viagem, a distância percorrida e a quantidade de litros utilizada na viagem"
   ]
  },
  {
   "cell_type": "code",
   "execution_count": 7,
   "metadata": {},
   "outputs": [
    {
     "name": "stdout",
     "output_type": "stream",
     "text": [
      "Tempo: 2.0\n",
      "Velocidade: 80.0\n"
     ]
    }
   ],
   "source": [
    "tempo = float(input('Digite o tempo gasto de viagem:'))\n",
    "velocidade = float(input('Digite a velocidade média:'))\n",
    "print('Tempo:', tempo)\n",
    "print('Velocidade:', velocidade)"
   ]
  },
  {
   "cell_type": "code",
   "execution_count": 8,
   "metadata": {},
   "outputs": [
    {
     "name": "stdout",
     "output_type": "stream",
     "text": [
      "Distância = 160.0\n"
     ]
    }
   ],
   "source": [
    "distancia = tempo * velocidade\n",
    "print('Distância =', distancia)"
   ]
  },
  {
   "cell_type": "code",
   "execution_count": 9,
   "metadata": {},
   "outputs": [
    {
     "name": "stdout",
     "output_type": "stream",
     "text": [
      "Litros usados = 13.333333333333334\n"
     ]
    }
   ],
   "source": [
    "litros_usados = distancia / 12\n",
    "print('Litros usados =', litros_usados)"
   ]
  },
  {
   "cell_type": "code",
   "execution_count": 10,
   "metadata": {},
   "outputs": [
    {
     "name": "stdout",
     "output_type": "stream",
     "text": [
      "Resultados:\n",
      "Velocidade média = 80.0\n",
      "Tempo gastos de viagem = 2.0\n",
      "Distância percorrida = 160.0\n",
      "Quantidade de litros utilizado na viagem 13.3\n"
     ]
    }
   ],
   "source": [
    "print('Resultados:')\n",
    "print('Velocidade média =', velocidade)\n",
    "print('Tempo gastos de viagem =', tempo)\n",
    "print('Distância percorrida =', distancia)\n",
    "print('Quantidade de litros utilizado na viagem', round(litros_usados,1))"
   ]
  }
 ],
 "metadata": {
  "kernelspec": {
   "display_name": "Python 3",
   "language": "python",
   "name": "python3"
  },
  "language_info": {
   "codemirror_mode": {
    "name": "ipython",
    "version": 3
   },
   "file_extension": ".py",
   "mimetype": "text/x-python",
   "name": "python",
   "nbconvert_exporter": "python",
   "pygments_lexer": "ipython3",
   "version": "3.10.12"
  }
 },
 "nbformat": 4,
 "nbformat_minor": 2
}
