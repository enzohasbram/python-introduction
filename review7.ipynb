{
 "cells": [
  {
   "cell_type": "markdown",
   "metadata": {},
   "source": [
    "Exercícios de Revisão"
   ]
  },
  {
   "cell_type": "markdown",
   "metadata": {},
   "source": [
    "Exercício 1: Crie uma lista vazia e faça a leitura de dois valores do tipo float, colocando cada um dos valores nas primeiras posições da lista (o valor1 ficará na posição 0 da lista e o valor2 ficará na posição 1 da lista). Faça a divisão dos dois valores e trate as seguintes exceções:\n",
    "- ValueError: se o usuário digitar um caracter\n",
    "- ZeroDivisionError: se o usuário digitar zero e ocorrer erro na divisão\n",
    "- IndexError: caso a divisão seja feita levando em consideração posições que não existem na lista\n",
    "- KeyboardInterrupt: caso o usuário interrompa a execução"
   ]
  },
  {
   "cell_type": "markdown",
   "metadata": {},
   "source": [
    "Exercício 2: Mostre uma mensagem personalizada na ocorrência de cada um desses erros"
   ]
  },
  {
   "cell_type": "code",
   "execution_count": 12,
   "metadata": {},
   "outputs": [
    {
     "name": "stdout",
     "output_type": "stream",
     "text": [
      "A divisão é 5.0\n"
     ]
    }
   ],
   "source": [
    "lista = []\n",
    "try:\n",
    "    lista.append(float(input('Digite um número:')))\n",
    "    lista.append(float(input('Digite um número:')))\n",
    "    div = lista[0] / lista[1]\n",
    "except ValueError:\n",
    "    print('Erro! Valor inválido')\n",
    "except ZeroDivisionError:\n",
    "    print('Erro! Divisão por zero')\n",
    "except IndexError:\n",
    "    print('Erro! índice inválido')\n",
    "except KeyboardInterrupt:\n",
    "    print('Usuário interrompeu a execução')\n",
    "else:\n",
    "    print(f'A divisão é {div}')"
   ]
  }
 ],
 "metadata": {
  "kernelspec": {
   "display_name": "Python 3",
   "language": "python",
   "name": "python3"
  },
  "language_info": {
   "codemirror_mode": {
    "name": "ipython",
    "version": 3
   },
   "file_extension": ".py",
   "mimetype": "text/x-python",
   "name": "python",
   "nbconvert_exporter": "python",
   "pygments_lexer": "ipython3",
   "version": "3.10.12"
  }
 },
 "nbformat": 4,
 "nbformat_minor": 2
}
