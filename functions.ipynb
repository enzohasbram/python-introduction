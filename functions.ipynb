{
 "cells": [
  {
   "cell_type": "markdown",
   "metadata": {},
   "source": [
    "Funções\n",
    "- Trechos de programa que recebem um determinado nome e podem ser chamados várias vezes durante a execução\n",
    "- Principais vantagens: reutilização de código, modularidade e facilidade de manutenção do sistema"
   ]
  },
  {
   "cell_type": "markdown",
   "metadata": {},
   "source": [
    "Função sem parâmetro e sem retorno"
   ]
  },
  {
   "cell_type": "code",
   "execution_count": 1,
   "metadata": {},
   "outputs": [],
   "source": [
    "def mensagem():\n",
    "    print('Texto da função')"
   ]
  },
  {
   "cell_type": "code",
   "execution_count": 2,
   "metadata": {},
   "outputs": [
    {
     "name": "stdout",
     "output_type": "stream",
     "text": [
      "Texto da função\n",
      "Texto da função\n",
      "Texto da função\n"
     ]
    }
   ],
   "source": [
    "mensagem()\n",
    "mensagem()\n",
    "mensagem()"
   ]
  },
  {
   "cell_type": "markdown",
   "metadata": {},
   "source": [
    "Função com passagem de parâmetro"
   ]
  },
  {
   "cell_type": "code",
   "execution_count": 3,
   "metadata": {},
   "outputs": [],
   "source": [
    "def mensagem(texto):\n",
    "    print(texto)"
   ]
  },
  {
   "cell_type": "code",
   "execution_count": 4,
   "metadata": {},
   "outputs": [
    {
     "name": "stdout",
     "output_type": "stream",
     "text": [
      "texto 1\n",
      "texto 2\n",
      "texto 3\n"
     ]
    }
   ],
   "source": [
    "mensagem('texto 1')\n",
    "mensagem('texto 2')\n",
    "mensagem('texto 3')"
   ]
  },
  {
   "cell_type": "code",
   "execution_count": 5,
   "metadata": {},
   "outputs": [],
   "source": [
    "def soma(a, b):\n",
    "    print(a + b)"
   ]
  },
  {
   "cell_type": "code",
   "execution_count": 6,
   "metadata": {},
   "outputs": [
    {
     "name": "stdout",
     "output_type": "stream",
     "text": [
      "5\n",
      "6\n",
      "12\n"
     ]
    }
   ],
   "source": [
    "soma(2, 3)\n",
    "soma(3, 3)\n",
    "soma(4, 8)"
   ]
  },
  {
   "cell_type": "markdown",
   "metadata": {},
   "source": [
    "Função com passagem de parâmetros e retorno"
   ]
  },
  {
   "cell_type": "code",
   "execution_count": 7,
   "metadata": {},
   "outputs": [],
   "source": [
    "def soma(a, b):\n",
    "    return a + b"
   ]
  },
  {
   "cell_type": "code",
   "execution_count": 8,
   "metadata": {},
   "outputs": [
    {
     "data": {
      "text/plain": [
       "5"
      ]
     },
     "execution_count": 8,
     "metadata": {},
     "output_type": "execute_result"
    }
   ],
   "source": [
    "soma(3,2)"
   ]
  },
  {
   "cell_type": "code",
   "execution_count": 11,
   "metadata": {},
   "outputs": [
    {
     "name": "stdout",
     "output_type": "stream",
     "text": [
      "5\n"
     ]
    }
   ],
   "source": [
    "r = soma(3, 2)\n",
    "print(r)"
   ]
  },
  {
   "cell_type": "code",
   "execution_count": 16,
   "metadata": {},
   "outputs": [],
   "source": [
    "def calcula_energia_potencial_gravitacional(m, h, g =10):\n",
    "    '''\n",
    "    Calcula a energia potencial gravitacional\n",
    "    Argumentos:\n",
    "    m: massa, entrada como uma variável float\n",
    "    h: altura, entrada como uma variável float\n",
    "\n",
    "    Argumento opcional:\n",
    "    g: aceleração gravitacional, com valor default de 10\n",
    "    '''\n",
    "    e = g * m * h\n",
    "    return e"
   ]
  },
  {
   "cell_type": "code",
   "execution_count": 13,
   "metadata": {},
   "outputs": [
    {
     "data": {
      "text/plain": [
       "3600"
      ]
     },
     "execution_count": 13,
     "metadata": {},
     "output_type": "execute_result"
    }
   ],
   "source": [
    "calcula_energia_potencial_gravitacional(30, 12)"
   ]
  },
  {
   "cell_type": "code",
   "execution_count": 14,
   "metadata": {},
   "outputs": [
    {
     "data": {
      "text/plain": [
       "3528.0"
      ]
     },
     "execution_count": 14,
     "metadata": {},
     "output_type": "execute_result"
    }
   ],
   "source": [
    "calcula_energia_potencial_gravitacional(30, 12, 9.8)"
   ]
  },
  {
   "cell_type": "code",
   "execution_count": 17,
   "metadata": {},
   "outputs": [
    {
     "name": "stdout",
     "output_type": "stream",
     "text": [
      "Help on function calcula_energia_potencial_gravitacional in module __main__:\n",
      "\n",
      "calcula_energia_potencial_gravitacional(m, h, g=10)\n",
      "    Calcula a energia potencial gravitacional\n",
      "    Argumentos:\n",
      "    m: massa, entrada como uma variável float\n",
      "    h: altura, entrada como uma variável float\n",
      "    \n",
      "    Argumento opcional:\n",
      "    g: aceleração gravitacional, com valor default de 10\n",
      "\n"
     ]
    }
   ],
   "source": [
    "help(calcula_energia_potencial_gravitacional)"
   ]
  }
 ],
 "metadata": {
  "kernelspec": {
   "display_name": "Python 3",
   "language": "python",
   "name": "python3"
  },
  "language_info": {
   "codemirror_mode": {
    "name": "ipython",
    "version": 3
   },
   "file_extension": ".py",
   "mimetype": "text/x-python",
   "name": "python",
   "nbconvert_exporter": "python",
   "pygments_lexer": "ipython3",
   "version": "3.10.12"
  }
 },
 "nbformat": 4,
 "nbformat_minor": 2
}
